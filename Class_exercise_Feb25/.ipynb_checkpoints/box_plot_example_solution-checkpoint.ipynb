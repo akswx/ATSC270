{
 "cells": [
  {
   "cell_type": "code",
   "execution_count": 2,
   "id": "1d277ce5-03a5-4335-acca-57e00dc9b4ff",
   "metadata": {},
   "outputs": [],
   "source": [
    "'''\n",
    "Example of lines plots for ATSC 270\n",
    "\n",
    "1.Reads in text files of 2 m temperature data \n",
    "2.Each text file has GFK temp for each hour from 1 UTC - 23 UTC on 2/21/22 \n",
    "for a totoal of 23 data points \n",
    "3.Text files must be in same directory as code (unless code is updated)\n",
    "\n",
    "Written: Aaron Scott, UND Spring 2022\n",
    "Last updated: 2/23/22\n",
    "'''\n",
    "import matplotlib.pyplot as plt\n",
    "\n",
    "#read in data in text files \n",
    "#hrrr temp at 2 m in Fahrenheit \n",
    "hrrr_temp = [] #create empty list \n",
    "with open('hrrr_temp.txt','r') as f: #open text file as a file-object \n",
    "    for line in f: #loop through each line of file-object \n",
    "        hrrr_temp.append(float(line)) #convert to float and append to list \n",
    "#asos temp at 2 m in Fahrenheit \n",
    "asos_temp = []\n",
    "with open('asos_temp.txt','r') as f:\n",
    "    for line in f:\n",
    "        asos_temp.append(float(line))"
   ]
  },
  {
   "cell_type": "markdown",
   "id": "9ce11e55-4627-4c7e-8540-54c1558fae06",
   "metadata": {},
   "source": [
    "This link shows examples from the matplotlib documentation:<br>\n",
    "<https://matplotlib.org/stable/plot_types/index>"
   ]
  },
  {
   "cell_type": "markdown",
   "id": "09c727a6-fb07-479c-a230-28fc91829197",
   "metadata": {},
   "source": [
    "### Try to plot ASOS 2 m Temp below using a bar chart!"
   ]
  },
  {
   "cell_type": "code",
   "execution_count": 11,
   "id": "da61c5d6-dcb1-4a1d-90ee-451522ba4190",
   "metadata": {},
   "outputs": [
    {
     "data": {
      "image/png": "[encoded data removed]",
      "text/plain": [
       "<Figure size 576x288 with 1 Axes>"
      ]
     },
     "metadata": {
      "needs_background": "light"
     },
     "output_type": "display_data"
    }
   ],
   "source": [
    "#method 2 \n",
    "#Manually create Figure object and Axes object (The OO-P style)\n",
    "\n",
    "#generate list of UTC times that go with data \n",
    "UTC_times = [val for val in range(1,24,1)] #data starts at 1 UTC and ends at 23 UTC\n",
    "\n",
    "fig = plt.figure(figsize=(8,4)) #create figure object and store in variable named fig; note the specified figure size\n",
    "ax = fig.add_axes([0,0,1,1]) #create axes object attached to figure object; add_axes is a method of the figure object\n",
    "ax.bar(UTC_times,asos_temp,color='blue') #UTC_times: x-coord, asos_temp: y-coord \n",
    "ax.set_title('ASOS Grand Forks, ND 2/21/22',size=15,fontweight='bold')\n",
    "ax.set_ylabel('Temperature (deg F)',size=15,fontweight='bold')\n",
    "ax.set_xlabel('Hour (UTC)',size=15,fontweight='bold')\n",
    "#make ticks from 1-23 UTC at every other hour \n",
    "ax.set_xticks(range(1,24,2)) #range function returns sequence of numbers and passes to xticks function\n",
    "ax.set_ylim(-6,-15) #set y limits \n",
    "ax.set_xlim(0,24) #set x limits \n",
    "ax.grid() #show grid "
   ]
  },
  {
   "cell_type": "markdown",
   "id": "ac00d644-c525-400c-ae27-e838b30828b6",
   "metadata": {},
   "source": [
    "## Write function below to calculate Max and Min of temp list"
   ]
  },
  {
   "cell_type": "code",
   "execution_count": 24,
   "id": "d73a7ae7-7e06-447d-b8ce-4d46681cddac",
   "metadata": {},
   "outputs": [],
   "source": [
    "def stats(temp_list):\n",
    "    current_max = temp_list[0]\n",
    "    current_min = temp_list[0]\n",
    "    for val in temp_list:\n",
    "        if val > current_max:\n",
    "            current_max = val\n",
    "            \n",
    "        if val < current_min:\n",
    "            current_min = val\n",
    "    return current_max, current_min"
   ]
  },
  {
   "cell_type": "code",
   "execution_count": 26,
   "id": "bebc5e52-3a88-4c31-ba49-7e5df3bd9a53",
   "metadata": {},
   "outputs": [],
   "source": [
    "asos_max, asos_min = stats(asos_temp)"
   ]
  },
  {
   "cell_type": "code",
   "execution_count": 28,
   "id": "76cc280d-1821-4b97-bb22-6306443ad980",
   "metadata": {},
   "outputs": [],
   "source": [
    "hrrr_max, hrrr_min = stats(hrrr_temp)"
   ]
  },
  {
   "cell_type": "code",
   "execution_count": 31,
   "id": "23eab8a9-2bb9-4eb1-aba7-55c97edf79d2",
   "metadata": {},
   "outputs": [],
   "source": [
    "#create a new list that has all 4 values computed above (asos_max,hrrr_max,asos_min,hrrr_min)"
   ]
  },
  {
   "cell_type": "code",
   "execution_count": 34,
   "id": "808ce5bb-4aa4-40c9-b32f-4384ecb15ba2",
   "metadata": {},
   "outputs": [],
   "source": [
    "max_min = []\n",
    "\n",
    "max_min.append(asos_max)\n",
    "max_min.append(hrrr_max)\n",
    "max_min.append(asos_min)\n",
    "max_min.append(hrrr_min)"
   ]
  },
  {
   "cell_type": "code",
   "execution_count": 35,
   "id": "a6927b25-a7a1-4c4e-bf41-acc3f5f066fc",
   "metadata": {},
   "outputs": [
    {
     "data": {
      "text/plain": [
       "[-7.1, -6.285689086914026, -14.1, -14.554191894531208]"
      ]
     },
     "execution_count": 35,
     "metadata": {},
     "output_type": "execute_result"
    }
   ],
   "source": [
    "max_min"
   ]
  },
  {
   "cell_type": "code",
   "execution_count": 51,
   "id": "0b07a3ce-4720-4229-9b38-dd8b1d9bbe7f",
   "metadata": {},
   "outputs": [
    {
     "data": {
      "image/png": "[encoded data removed]",
      "text/plain": [
       "<Figure size 432x288 with 1 Axes>"
      ]
     },
     "metadata": {
      "needs_background": "light"
     },
     "output_type": "display_data"
    }
   ],
   "source": [
    "plt.bar(range(4),max_min)\n",
    "plt.ylim(0,-15)\n",
    "plt.xticks(range(4),labels=['max','max','min','min'])\n",
    "plt.show()"
   ]
  },
  {
   "cell_type": "code",
   "execution_count": null,
   "id": "cd8292cd-714b-4f76-a0cc-3ddcec3d4b80",
   "metadata": {},
   "outputs": [],
   "source": []
  }
 ],
 "metadata": {
  "kernelspec": {
   "display_name": "Python 3 (ipykernel)",
   "language": "python",
   "name": "python3"
  },
  "language_info": {
   "codemirror_mode": {
    "name": "ipython",
    "version": 3
   },
   "file_extension": ".py",
   "mimetype": "text/x-python",
   "name": "python",
   "nbconvert_exporter": "python",
   "pygments_lexer": "ipython3",
   "version": "3.9.7"
  }
 },
 "nbformat": 4,
 "nbformat_minor": 5
}
